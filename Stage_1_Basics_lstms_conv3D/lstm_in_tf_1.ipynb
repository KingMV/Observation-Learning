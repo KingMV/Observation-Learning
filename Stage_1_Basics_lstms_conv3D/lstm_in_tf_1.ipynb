{
 "cells": [
  {
   "cell_type": "markdown",
   "metadata": {},
   "source": [
    "#### Simple implementation of LSTM in Tensorflow\n",
    "Ref: http://monik.in/a-noobs-guide-to-implementing-rnn-lstm-using-tensorflow/\n"
   ]
  },
  {
   "cell_type": "code",
   "execution_count": null,
   "metadata": {
    "collapsed": true
   },
   "outputs": [],
   "source": [
    "#Imports\n",
    "import numpy as np\n",
    "import random\n",
    "from random import shuffle\n",
    "import tensorflow as tf\n",
    "import os\n",
    "\n",
    "# from tensorflow.models.rnn import rnn_cell\n",
    "# from tensorflow.models.rnn import rnn"
   ]
  },
  {
   "cell_type": "markdown",
   "metadata": {},
   "source": [
    "#### Loading data"
   ]
  },
  {
   "cell_type": "code",
   "execution_count": null,
   "metadata": {},
   "outputs": [
    {
     "name": "stdout",
     "output_type": "stream",
     "text": [
      "test and training data loaded\n"
     ]
    }
   ],
   "source": [
    "# Loading data \n",
    "NUM_EXAMPLES = 10000\n",
    "\n",
    "train_input = ['{0:020b}'.format(i) for i in range(2**20)]\n",
    "shuffle(train_input)\n",
    "train_input = [map(int,i) for i in train_input]\n",
    "ti  = []\n",
    "for i in train_input:\n",
    "    temp_list = []\n",
    "    for j in i:\n",
    "            temp_list.append([j])\n",
    "    ti.append(np.array(temp_list))\n",
    "train_input = ti\n",
    "\n",
    "train_output = []\n",
    "for i in train_input:\n",
    "    count = 0\n",
    "    for j in i:\n",
    "        if j[0] == 1:\n",
    "            count+=1\n",
    "    temp_list = ([0]*21)\n",
    "    temp_list[count]=1\n",
    "    train_output.append(temp_list)\n",
    "\n",
    "test_input = train_input[NUM_EXAMPLES:]\n",
    "test_output = train_output[NUM_EXAMPLES:]\n",
    "train_input = train_input[:NUM_EXAMPLES]\n",
    "train_output = train_output[:NUM_EXAMPLES]\n",
    "\n",
    "print (\"test and training data loaded\")"
   ]
  },
  {
   "cell_type": "code",
   "execution_count": null,
   "metadata": {
    "collapsed": true
   },
   "outputs": [],
   "source": [
    "# Definining values\n",
    "LOG_DIR='./logdir'\n",
    "custom_global_step=0\n",
    "batch_size = 1000\n",
    "no_of_batches = int(len(train_input) / batch_size)\n",
    "epoch = 50\n",
    "num_hidden = 24"
   ]
  },
  {
   "cell_type": "markdown",
   "metadata": {},
   "source": [
    "#### Defining Model"
   ]
  },
  {
   "cell_type": "code",
   "execution_count": null,
   "metadata": {
    "collapsed": true
   },
   "outputs": [],
   "source": [
    "data = tf.placeholder(tf.float32, [None, 20,1]) #Number of examples, number of input, dimension of each input\n",
    "target = tf.placeholder(tf.float32, [None, 21])"
   ]
  },
  {
   "cell_type": "code",
   "execution_count": null,
   "metadata": {},
   "outputs": [
    {
     "name": "stderr",
     "output_type": "stream",
     "text": [
      "/opt/conda/lib/python3.6/site-packages/tensorflow/python/ops/gradients_impl.py:93: UserWarning: Converting sparse IndexedSlices to a dense Tensor of unknown shape. This may consume a large amount of memory.\n",
      "  \"Converting sparse IndexedSlices to a dense Tensor of unknown shape. \"\n"
     ]
    }
   ],
   "source": [
    "cell = tf.contrib.rnn.LSTMCell(num_hidden,state_is_tuple=True)\n",
    "val, _ = tf.nn.dynamic_rnn(cell, data, dtype=tf.float32)\n",
    "val = tf.transpose(val, [1, 0, 2])\n",
    "last = tf.gather(val, int(val.get_shape()[0]) - 1)\n",
    "weight = tf.Variable(tf.truncated_normal([num_hidden, int(target.get_shape()[1])]))\n",
    "bias = tf.Variable(tf.constant(0.1, shape=[target.get_shape()[1]]))\n",
    "prediction = tf.nn.softmax(tf.matmul(last, weight) + bias)\n",
    "cross_entropy = -tf.reduce_sum(target * tf.log(tf.clip_by_value(prediction,1e-10,1.0)))\n",
    "optimizer = tf.train.AdamOptimizer()\n",
    "minimize = optimizer.minimize(cross_entropy)\n",
    "mistakes = tf.not_equal(tf.argmax(target, 1), tf.argmax(prediction, 1))\n",
    "error = tf.reduce_mean(tf.cast(mistakes, tf.float32))\n",
    "\n",
    "# Defining variables for writing summary\n",
    "tf.summary.scalar(\"cross_entropy\", cross_entropy)\n",
    "summary_op = tf.summary.merge_all()"
   ]
  },
  {
   "cell_type": "markdown",
   "metadata": {},
   "source": [
    "#### Running session"
   ]
  },
  {
   "cell_type": "code",
   "execution_count": null,
   "metadata": {},
   "outputs": [
    {
     "name": "stdout",
     "output_type": "stream",
     "text": [
      "WARNING:tensorflow:From <ipython-input-6-911064ef5263>:1: initialize_all_variables (from tensorflow.python.ops.variables) is deprecated and will be removed after 2017-03-02.\n",
      "Instructions for updating:\n",
      "Use `tf.global_variables_initializer` instead.\n",
      "Epoch 0\n",
      "Epoch 1\n",
      "Epoch 2\n",
      "Epoch 3\n",
      "Epoch 4\n",
      "Epoch 5\n",
      "Epoch 6\n",
      "Epoch 7\n",
      "Epoch 8\n",
      "Epoch 9\n",
      "Epoch 10\n",
      "Epoch 11\n",
      "Epoch 12\n",
      "Epoch 13\n",
      "Epoch 14\n",
      "Epoch 15\n",
      "Epoch 16\n",
      "Epoch 17\n",
      "Epoch 18\n",
      "Epoch 19\n",
      "Epoch 20\n",
      "Epoch 21\n",
      "Epoch 22\n",
      "Epoch 23\n",
      "Epoch 24\n",
      "Epoch 25\n",
      "Epoch 26\n",
      "Epoch 27\n",
      "Epoch 28\n",
      "Epoch 29\n",
      "Epoch 30\n",
      "Epoch 31\n",
      "Epoch 32\n",
      "Epoch 33\n",
      "Epoch 34\n",
      "Epoch 35\n",
      "Epoch 36\n",
      "Epoch 37\n",
      "Epoch 38\n",
      "Epoch 39\n",
      "Epoch 40\n",
      "Epoch 41\n",
      "Epoch 42\n",
      "Epoch 43\n",
      "Epoch 44\n",
      "Epoch 45\n",
      "Epoch 46\n",
      "Epoch 47\n",
      "Epoch 48\n",
      "Epoch 49\n",
      "[[  4.16957409e-05   1.51184679e-04   1.01161662e-04   9.58907822e-06\n",
      "    4.05898754e-05   1.91918862e-05   1.06413499e-04   1.19468896e-04\n",
      "    6.81659789e-04   3.68862529e-03   1.01423375e-02   1.20425723e-01\n",
      "    6.04755163e-01   2.11854488e-01   3.59153561e-02   9.94639937e-03\n",
      "    1.51711481e-03   1.62242650e-04   2.42255810e-05   3.42401327e-05\n",
      "    2.63100170e-04]]\n",
      "Error 22.6%\n"
     ]
    },
    {
     "data": {
      "text/plain": [
       "'./logdir/model.ckpt-501'"
      ]
     },
     "execution_count": 6,
     "metadata": {},
     "output_type": "execute_result"
    }
   ],
   "source": [
    "init_op = tf.initialize_all_variables()\n",
    "sess = tf.InteractiveSession()\n",
    "sess.run(init_op)\n",
    "\n",
    "saver = tf.train.Saver()\n",
    "train_writer = tf.summary.FileWriter('./logdir', sess.graph)\n",
    "\n",
    "for i in range(epoch):\n",
    "    ptr = 0\n",
    "    for j in range(no_of_batches):\n",
    "        inp, out = train_input[ptr:ptr+batch_size], train_output[ptr:ptr+batch_size]\n",
    "        ptr+=batch_size\n",
    "        _,summ_string=sess.run([minimize,summary_op],feed_dict={data: inp, target: out})\n",
    "        train_writer.add_summary(summ_string,custom_global_step) # Writing summary to disc\n",
    "        custom_global_step+=1\n",
    "    \n",
    "    print ('Epoch {}'.format(str(i)))\n",
    "incorrect = sess.run(error,{data: test_input, target: test_output})\n",
    "print (sess.run(prediction,{data: [[[1],[0],[0],[1],[1],[0],[1],[1],[1],[0],[1],[0],[0],[1],[1],[0],[1],[1],[1],[0]]]}))\n",
    "print('Error {:3.1f}%'.format(100 * incorrect))\n",
    "saver.save(sess, os.path.join(LOG_DIR, \"model.ckpt\"), global_step=custom_global_step+1) \n"
   ]
  },
  {
   "cell_type": "markdown",
   "metadata": {},
   "source": [
    "#### Tensorboard "
   ]
  },
  {
   "cell_type": "code",
   "execution_count": null,
   "metadata": {},
   "outputs": [
    {
     "name": "stdout",
     "output_type": "stream",
     "text": [
      "======================================================================\r\n",
      "Processing event files... (this can take a few minutes)\r\n",
      "======================================================================\r\n",
      "\r\n",
      "Found event files in:\r\n",
      "./logdir/\r\n",
      "\r\n",
      "These tags are in ./logdir/:\r\n",
      "audio -\r\n",
      "histograms -\r\n",
      "images -\r\n",
      "scalars -\r\n",
      "tensor -\r\n",
      "======================================================================\r\n",
      "\r\n",
      "Event statistics for ./logdir/:\r\n",
      "audio -\r\n",
      "graph\r\n",
      "   first_step           0\r\n",
      "   last_step            0\r\n",
      "   max_step             0\r\n",
      "   min_step             0\r\n",
      "   num_steps            1\r\n",
      "   outoforder_steps     []\r\n",
      "histograms -\r\n",
      "images -\r\n",
      "scalars -\r\n",
      "sessionlog:checkpoint -\r\n",
      "sessionlog:start -\r\n",
      "sessionlog:stop -\r\n",
      "tensor -\r\n",
      "======================================================================\r\n",
      "\r\n"
     ]
    }
   ],
   "source": [
    "# Checking the items in the log directory\n",
    "!tensorboard --inspect --logdir='./logdir/'"
   ]
  },
  {
   "cell_type": "code",
   "execution_count": null,
   "metadata": {},
   "outputs": [
    {
     "name": "stdout",
     "output_type": "stream",
     "text": [
      "If on windows system go to: http://localhost:6006\n",
      "Starting TensorBoard b'47' at http://0.0.0.0:6006\n",
      "(Press CTRL+C to quit)\n",
      "WARNING:tensorflow:path ../external/data/plugin/text/runs not found, sending 404\n",
      "WARNING:tensorflow:path ../external/data/plugin/text/runs not found, sending 404\n",
      "WARNING:tensorflow:path ../external/data/plugin/text/runs not found, sending 404\n",
      "WARNING:tensorflow:path ../external/data/plugin/text/runs not found, sending 404\n"
     ]
    }
   ],
   "source": [
    "# Running tensorflow\n",
    "print('If on windows system go to: http://localhost:6006')\n",
    "!tensorboard --logdir='./logdir'\n",
    "\n",
    "#print('If on windows system go to: http://localhost:6006')\n",
    "#!tensorboard --logdir='./logdir’"
   ]
  },
  {
   "cell_type": "code",
   "execution_count": null,
   "metadata": {
    "collapsed": true
   },
   "outputs": [],
   "source": [
    "sess.close()"
   ]
  }
 ],
 "metadata": {
  "kernelspec": {
   "display_name": "Python 3",
   "language": "python",
   "name": "python3"
  },
  "language_info": {
   "codemirror_mode": {
    "name": "ipython",
    "version": 3
   },
   "file_extension": ".py",
   "mimetype": "text/x-python",
   "name": "python",
   "nbconvert_exporter": "python",
   "pygments_lexer": "ipython3",
   "version": "3.6.1"
  }
 },
 "nbformat": 4,
 "nbformat_minor": 2
}
