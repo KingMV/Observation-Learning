{
 "cells": [
  {
   "cell_type": "code",
   "execution_count": 1,
   "metadata": {
    "collapsed": true
   },
   "outputs": [],
   "source": [
    "\n",
    "\n",
    "def get_frames_data(filename, num_frames_per_clip=16):\n",
    "  ''' Given a directory containing extracted frames, return a video clip of\n",
    "  (num_frames_per_clip) consecutive frames as a list of np arrays '''\n",
    "  ret_arr = []\n",
    "  s_index = 0\n",
    "  for parent, dirnames, filenames in os.walk(filename):\n",
    "    if(len(filenames)<num_frames_per_clip):\n",
    "      return [], s_index\n",
    "    filenames = sorted(filenames)\n",
    "    s_index = random.randint(0, len(filenames) - num_frames_per_clip)\n",
    "    for i in range(s_index, s_index + num_frames_per_clip):\n",
    "      image_name = str(filename) + '/' + str(filenames[i])\n",
    "      img = Image.open(image_name)\n",
    "      img_data = np.array(img)\n",
    "      #lsp.view_image(img_data)\n",
    "      ret_arr.append(img_data)\n",
    "  print('ret_arr',np.array(ret_arr).shape)\n",
    "  return ret_arr, s_index\n",
    "\n",
    "def get_compress_frames_data(filename, num_frames_per_clip=16):\n",
    "  ''' Given a directory containing extracted frames, return a video clip of\n",
    "  (num_frames_per_clip) consecutive frames as a list of np arrays '''\n",
    "  ret_arr = []\n",
    "  s_index = 0\n",
    "  for parent, dirnames, filenames in os.walk(filename):\n",
    "    if(len(filenames)<num_frames_per_clip):\n",
    "      return [], s_index\n",
    "    filenames = sorted(filenames)\n",
    "    s_index = random.randint(0, len(filenames) - num_frames_per_clip)\n",
    "    jump=math.floor((len(filenames)/num_frames_per_clip))\n",
    "    #print('jump',jump,'toatl lenght of file',len(filenames))\n",
    "    loop=0\n",
    "    for i in range(0,len(filenames),jump):\n",
    "      #print('loop',i)\n",
    "      #print(i)\n",
    "      if (loop>7):\n",
    "        break\n",
    "      image_name = str(filename) + '/' + str(filenames[i])\n",
    "      img = Image.open(image_name)\n",
    "      img_data = np.array(img)\n",
    "      #lsp.view_image(img_data)\n",
    "      ret_arr.append(img_data)\n",
    "      loop=loop+1\n",
    "  #print('ret_arr',np.array(ret_arr).shape)\n",
    "  return ret_arr, s_index\n",
    "\n",
    "\n",
    "def read_vid_and_label(filename, batch_size, start_pos=-1, num_frames_per_clip=16, crop_size=112,normalisation=True):\n",
    "  lines = open(filename,'r')\n",
    "  read_dirnames = []\n",
    "  data = []\n",
    "  label = []\n",
    "  batch_index = 0\n",
    "  next_batch_start = -1\n",
    "  lines = list(lines)\n",
    "  # Forcing shuffle, if start_pos is not specified\n",
    "  if start_pos < 0:\n",
    "    video_indices = list(range(len(lines)))\n",
    "    random.seed(time.time())\n",
    "    random.shuffle(video_indices)\n",
    "    #print(video_indices)\n",
    "  else:\n",
    "    # Process videos sequentially\n",
    "    video_indices = range(start_pos, len(lines))\n",
    "  iter=0\n",
    "  for index in video_indices:\n",
    "    #print(batch_index)\n",
    "    #print(index)\n",
    "    if(batch_index>=batch_size):\n",
    "      next_batch_start = index\n",
    "      break\n",
    "    line = lines[index].strip('\\n').split()\n",
    "    dirname = line[0]\n",
    "    tmp_label = line[1]\n",
    "    print(\"Loading {}...\".format(dirname))\n",
    "    tmp_data, _ = get_compress_frames_data(dirname, num_frames_per_clip)\n",
    "    #print('temp_data.shape',np.array(tmp_data))\n",
    "    img_datas = []\n",
    "    if(len(tmp_data)!=0):\n",
    "      for j in xrange(len(tmp_data)):\n",
    "        img = np.array(tmp_data[j].astype(np.uint8))\n",
    "        img = cv2.resize(img,(crop_size,crop_size))\n",
    "        #lsp.view_image(img)\n",
    "        img_datas.append(img)\n",
    "        #lsp.view_image(img_datas[0])\n",
    "      data.append(img_datas)\n",
    "      #lsp.view_image(data[iter][0])\n",
    "      iter=iter+1\n",
    "      label.append(int(tmp_label))\n",
    "      batch_index = batch_index + 1\n",
    "      read_dirnames.append(dirname)\n",
    "\n",
    "  #lsp.view_video_seq(data,label,16,1) \n",
    "\n",
    "  np_arr_data = np.array(data) #.astype(np.float32)\n",
    "  print(np_arr_data.shape)\n",
    "  np_arr_label = np.array(label) #.astype(np.int64)\n",
    "  \n",
    "  #if normalisation:\n",
    "    #np_arr_data=np_arr_data/255\n",
    "    \n",
    "  #lsp.view_image(np_arr_data[0][0])\n",
    "  #lsp.view_video_seq(np_arr_data,np_arr_label,16,1) \n",
    "\n",
    "  return np_arr_data, np_arr_label, next_batch_start, read_dirnames"
   ]
  },
  {
   "cell_type": "code",
   "execution_count": 2,
   "metadata": {},
   "outputs": [
    {
     "data": {
      "text/plain": [
       "'Creating lists'"
      ]
     },
     "execution_count": 2,
     "metadata": {},
     "output_type": "execute_result"
    }
   ],
   "source": [
    "\"\"\"Creating lists\"\"\""
   ]
  },
  {
   "cell_type": "code",
   "execution_count": 3,
   "metadata": {},
   "outputs": [],
   "source": [
    "from __future__ import absolute_import\n",
    "from __future__ import division\n",
    "from __future__ import print_function\n",
    "\n",
    "import os\n",
    "from six.moves import xrange  # pylint: disable=redefined-builtin\n",
    "import PIL.Image as Image\n",
    "import random\n",
    "import numpy as np\n",
    "import cv2\n",
    "import time\n",
    "import math\n",
    "#import lscript as lsp"
   ]
  },
  {
   "cell_type": "code",
   "execution_count": 4,
   "metadata": {},
   "outputs": [],
   "source": [
    "filename='./test.list'\n",
    "file = open('test_dissimilar.list','w') \n",
    "lines = open(filename,'r')\n",
    "read_dirnames = []\n",
    "data = []\n",
    "label = []\n",
    "batch_index = 0\n",
    "next_batch_start = -1\n",
    "lines = list(lines)"
   ]
  },
  {
   "cell_type": "code",
   "execution_count": 5,
   "metadata": {},
   "outputs": [
    {
     "name": "stdout",
     "output_type": "stream",
     "text": [
      "['/nobackup/leopauly/Pouring_Dataset_Images/test/box_to_clear0_real_view0 0\\n', '/nobackup/leopauly/Pouring_Dataset_Images/test/box_to_clear0_real_view1 1\\n', '/nobackup/leopauly/Pouring_Dataset_Images/test/box_to_clear1_fake_view0 2\\n', '/nobackup/leopauly/Pouring_Dataset_Images/test/box_to_clear1_fake_view1 3\\n', '/nobackup/leopauly/Pouring_Dataset_Images/test/box_to_clear2_fake_view0 4\\n', '/nobackup/leopauly/Pouring_Dataset_Images/test/box_to_clear2_fake_view1 5\\n', '/nobackup/leopauly/Pouring_Dataset_Images/test/box_to_clear3_fake_view0 6\\n', '/nobackup/leopauly/Pouring_Dataset_Images/test/box_to_clear3_fake_view1 7\\n', '/nobackup/leopauly/Pouring_Dataset_Images/test/box_to_clear4_fake_view0 8\\n', '/nobackup/leopauly/Pouring_Dataset_Images/test/box_to_clear4_fake_view1 9\\n', '/nobackup/leopauly/Pouring_Dataset_Images/test/box_to_clear_real_view0 10\\n', '/nobackup/leopauly/Pouring_Dataset_Images/test/box_to_clear_real_view1 11\\n', '/nobackup/leopauly/Pouring_Dataset_Images/test/box_to_white0_fake_view0 12\\n', '/nobackup/leopauly/Pouring_Dataset_Images/test/box_to_white0_fake_view1 13\\n', '/nobackup/leopauly/Pouring_Dataset_Images/test/box_to_white0_real_view0 14\\n', '/nobackup/leopauly/Pouring_Dataset_Images/test/box_to_white0_real_view1 15\\n', '/nobackup/leopauly/Pouring_Dataset_Images/test/box_to_white1_fake_view0 16\\n', '/nobackup/leopauly/Pouring_Dataset_Images/test/box_to_white1_fake_view1 17\\n', '/nobackup/leopauly/Pouring_Dataset_Images/test/box_to_white1_real_view0 18\\n', '/nobackup/leopauly/Pouring_Dataset_Images/test/box_to_white1_real_view1 19\\n', '/nobackup/leopauly/Pouring_Dataset_Images/test/box_to_white2_fake_view0 20\\n', '/nobackup/leopauly/Pouring_Dataset_Images/test/box_to_white2_fake_view1 21\\n', '/nobackup/leopauly/Pouring_Dataset_Images/test/box_to_white3_fake_view0 22\\n', '/nobackup/leopauly/Pouring_Dataset_Images/test/box_to_white3_fake_view1 23\\n', '/nobackup/leopauly/Pouring_Dataset_Images/test/box_to_white4_fake_view0 24\\n', '/nobackup/leopauly/Pouring_Dataset_Images/test/box_to_white4_fake_view1 25\\n', '/nobackup/leopauly/Pouring_Dataset_Images/test/box_to_white_real_view0 26\\n', '/nobackup/leopauly/Pouring_Dataset_Images/test/box_to_white_real_view1 27\\n', '/nobackup/leopauly/Pouring_Dataset_Images/test/clearbottle_to_clear0_fake_view0 28\\n', '/nobackup/leopauly/Pouring_Dataset_Images/test/clearbottle_to_clear0_fake_view1 29\\n', '/nobackup/leopauly/Pouring_Dataset_Images/test/clearbottle_to_clear0_real_view0 30\\n', '/nobackup/leopauly/Pouring_Dataset_Images/test/clearbottle_to_clear0_real_view1 31\\n', '/nobackup/leopauly/Pouring_Dataset_Images/test/clearbottle_to_clear1_fake_view0 32\\n', '/nobackup/leopauly/Pouring_Dataset_Images/test/clearbottle_to_clear1_fake_view1 33\\n', '/nobackup/leopauly/Pouring_Dataset_Images/test/clearbottle_to_clear1_real_view0 34\\n', '/nobackup/leopauly/Pouring_Dataset_Images/test/clearbottle_to_clear1_real_view1 35\\n', '/nobackup/leopauly/Pouring_Dataset_Images/test/clearbottle_to_clear2_fake_view0 36\\n', '/nobackup/leopauly/Pouring_Dataset_Images/test/clearbottle_to_clear2_fake_view1 37\\n', '/nobackup/leopauly/Pouring_Dataset_Images/test/clearbottle_to_clear3_fake_view0 38\\n', '/nobackup/leopauly/Pouring_Dataset_Images/test/clearbottle_to_clear3_fake_view1 39\\n', '/nobackup/leopauly/Pouring_Dataset_Images/test/clearbottle_to_clear4_fake_view0 40\\n', '/nobackup/leopauly/Pouring_Dataset_Images/test/clearbottle_to_clear4_fake_view1 41\\n', '/nobackup/leopauly/Pouring_Dataset_Images/test/clearbottle_to_clear5_fake_view0 42\\n', '/nobackup/leopauly/Pouring_Dataset_Images/test/clearbottle_to_clear5_fake_view1 43\\n', '/nobackup/leopauly/Pouring_Dataset_Images/test/clearbottle_to_clear_real_view0 44\\n', '/nobackup/leopauly/Pouring_Dataset_Images/test/clearbottle_to_clear_real_view1 45\\n', '/nobackup/leopauly/Pouring_Dataset_Images/test/clearbottle_to_white0_fake_view0 46\\n', '/nobackup/leopauly/Pouring_Dataset_Images/test/clearbottle_to_white0_fake_view1 47\\n', '/nobackup/leopauly/Pouring_Dataset_Images/test/clearbottle_to_white0_real_view0 48\\n', '/nobackup/leopauly/Pouring_Dataset_Images/test/clearbottle_to_white0_real_view1 49\\n', '/nobackup/leopauly/Pouring_Dataset_Images/test/clearbottle_to_white1_fake_view0 50\\n', '/nobackup/leopauly/Pouring_Dataset_Images/test/clearbottle_to_white1_fake_view1 51\\n', '/nobackup/leopauly/Pouring_Dataset_Images/test/clearbottle_to_white1_real_view0 52\\n', '/nobackup/leopauly/Pouring_Dataset_Images/test/clearbottle_to_white1_real_view1 53\\n', '/nobackup/leopauly/Pouring_Dataset_Images/test/clearbottle_to_white2_fake_view0 54\\n', '/nobackup/leopauly/Pouring_Dataset_Images/test/clearbottle_to_white2_fake_view1 55\\n', '/nobackup/leopauly/Pouring_Dataset_Images/test/clearbottle_to_white3_fake_view0 56\\n', '/nobackup/leopauly/Pouring_Dataset_Images/test/clearbottle_to_white3_fake_view1 57\\n', '/nobackup/leopauly/Pouring_Dataset_Images/test/clearbottle_to_white4_fake_view0 58\\n', '/nobackup/leopauly/Pouring_Dataset_Images/test/clearbottle_to_white4_fake_view1 59\\n', '/nobackup/leopauly/Pouring_Dataset_Images/test/clearbottle_to_white_real_view0 60\\n', '/nobackup/leopauly/Pouring_Dataset_Images/test/clearbottle_to_white_real_view1 61\\n', '/nobackup/leopauly/Pouring_Dataset_Images/test/clearmilk_to_white0_real_view0 62\\n', '/nobackup/leopauly/Pouring_Dataset_Images/test/clearmilk_to_white0_real_view1 63\\n', '/nobackup/leopauly/Pouring_Dataset_Images/test/clearmilk_to_white1_real_view0 64\\n', '/nobackup/leopauly/Pouring_Dataset_Images/test/clearmilk_to_white1_real_view1 65\\n', '/nobackup/leopauly/Pouring_Dataset_Images/test/clearmilk_to_white_real_view0 66\\n', '/nobackup/leopauly/Pouring_Dataset_Images/test/clearmilk_to_white_real_view1 67\\n', '/nobackup/leopauly/Pouring_Dataset_Images/test/clearorange_to_clear0_real_view0 68\\n', '/nobackup/leopauly/Pouring_Dataset_Images/test/clearorange_to_clear0_real_view1 69\\n', '/nobackup/leopauly/Pouring_Dataset_Images/test/clearorange_to_clear1_real_view0 70\\n', '/nobackup/leopauly/Pouring_Dataset_Images/test/clearorange_to_clear1_real_view1 71\\n', '/nobackup/leopauly/Pouring_Dataset_Images/test/clearorange_to_clear_real_view0 72\\n', '/nobackup/leopauly/Pouring_Dataset_Images/test/clearorange_to_clear_real_view1 73\\n', '/nobackup/leopauly/Pouring_Dataset_Images/test/clearorange_to_white0_real_view0 74\\n', '/nobackup/leopauly/Pouring_Dataset_Images/test/clearorange_to_white0_real_view1 75\\n', '/nobackup/leopauly/Pouring_Dataset_Images/test/clearorange_to_white1_real_view0 76\\n', '/nobackup/leopauly/Pouring_Dataset_Images/test/clearorange_to_white1_real_view1 77\\n', '/nobackup/leopauly/Pouring_Dataset_Images/test/clearorange_to_white_real_view0 78\\n', '/nobackup/leopauly/Pouring_Dataset_Images/test/clearorange_to_white_real_view1 79\\n', '/nobackup/leopauly/Pouring_Dataset_Images/test/cleartea_to_clear0_real_view0 80\\n', '/nobackup/leopauly/Pouring_Dataset_Images/test/cleartea_to_clear0_real_view1 81\\n', '/nobackup/leopauly/Pouring_Dataset_Images/test/cleartea_to_white0_real_view0 82\\n', '/nobackup/leopauly/Pouring_Dataset_Images/test/cleartea_to_white0_real_view1 83\\n', '/nobackup/leopauly/Pouring_Dataset_Images/test/cleartea_to_white1_real_view0 84\\n', '/nobackup/leopauly/Pouring_Dataset_Images/test/cleartea_to_white1_real_view1 85\\n', '/nobackup/leopauly/Pouring_Dataset_Images/test/cleartea_to_white2_real_view0 86\\n', '/nobackup/leopauly/Pouring_Dataset_Images/test/cleartea_to_white2_real_view1 87\\n', '/nobackup/leopauly/Pouring_Dataset_Images/test/metallic_to_clear0_fake_view0 88\\n', '/nobackup/leopauly/Pouring_Dataset_Images/test/metallic_to_clear0_fake_view1 89\\n', '/nobackup/leopauly/Pouring_Dataset_Images/test/metallic_to_clear0_real_view0 90\\n', '/nobackup/leopauly/Pouring_Dataset_Images/test/metallic_to_clear0_real_view1 91\\n', '/nobackup/leopauly/Pouring_Dataset_Images/test/metallic_to_clear1_fake_view0 92\\n', '/nobackup/leopauly/Pouring_Dataset_Images/test/metallic_to_clear1_fake_view1 93\\n', '/nobackup/leopauly/Pouring_Dataset_Images/test/metallic_to_clear2_fake_view0 94\\n', '/nobackup/leopauly/Pouring_Dataset_Images/test/metallic_to_clear2_fake_view1 95\\n', '/nobackup/leopauly/Pouring_Dataset_Images/test/metallic_to_clear3_fake_view0 96\\n', '/nobackup/leopauly/Pouring_Dataset_Images/test/metallic_to_clear3_fake_view1 97\\n', '/nobackup/leopauly/Pouring_Dataset_Images/test/metallic_to_clear4_fake_view0 98\\n', '/nobackup/leopauly/Pouring_Dataset_Images/test/metallic_to_clear4_fake_view1 99\\n', '/nobackup/leopauly/Pouring_Dataset_Images/test/metallic_to_clear5_fake_view0 100\\n', '/nobackup/leopauly/Pouring_Dataset_Images/test/metallic_to_clear5_fake_view1 101\\n', '/nobackup/leopauly/Pouring_Dataset_Images/test/metallic_to_clear99_real_view0 102\\n', '/nobackup/leopauly/Pouring_Dataset_Images/test/metallic_to_clear99_real_view1 103\\n', '/nobackup/leopauly/Pouring_Dataset_Images/test/metallic_to_clear_real_view0 104\\n', '/nobackup/leopauly/Pouring_Dataset_Images/test/metallic_to_clear_real_view1 105\\n', '/nobackup/leopauly/Pouring_Dataset_Images/test/metallic_to_white2_fake_view0 106\\n', '/nobackup/leopauly/Pouring_Dataset_Images/test/metallic_to_white2_fake_view1 107\\n', '/nobackup/leopauly/Pouring_Dataset_Images/test/metallic_to_white3_fake_view0 108\\n', '/nobackup/leopauly/Pouring_Dataset_Images/test/metallic_to_white3_fake_view1 109\\n', '/nobackup/leopauly/Pouring_Dataset_Images/test/metallic_to_white6_fake_view0 110\\n', '/nobackup/leopauly/Pouring_Dataset_Images/test/metallic_to_white6_fake_view1 111\\n', '/nobackup/leopauly/Pouring_Dataset_Images/test/metallic_to_white99_real_view0 112\\n', '/nobackup/leopauly/Pouring_Dataset_Images/test/metallic_to_white99_real_view1 113\\n', '/nobackup/leopauly/Pouring_Dataset_Images/test/metallic_to_white_real_view0 114\\n', '/nobackup/leopauly/Pouring_Dataset_Images/test/metallic_to_white_real_view1 115\\n', '/nobackup/leopauly/Pouring_Dataset_Images/test/red_to_clear0_fake_view0 116\\n', '/nobackup/leopauly/Pouring_Dataset_Images/test/red_to_clear0_fake_view1 117\\n', '/nobackup/leopauly/Pouring_Dataset_Images/test/red_to_clear0_real_view0 118\\n', '/nobackup/leopauly/Pouring_Dataset_Images/test/red_to_clear0_real_view1 119\\n', '/nobackup/leopauly/Pouring_Dataset_Images/test/red_to_clear1_fake_view0 120\\n', '/nobackup/leopauly/Pouring_Dataset_Images/test/red_to_clear1_fake_view1 121\\n', '/nobackup/leopauly/Pouring_Dataset_Images/test/red_to_clear1_real_view0 122\\n', '/nobackup/leopauly/Pouring_Dataset_Images/test/red_to_clear1_real_view1 123\\n', '/nobackup/leopauly/Pouring_Dataset_Images/test/red_to_clear2_fake_view0 124\\n', '/nobackup/leopauly/Pouring_Dataset_Images/test/red_to_clear2_fake_view1 125\\n', '/nobackup/leopauly/Pouring_Dataset_Images/test/red_to_clear3_fake_view0 126\\n', '/nobackup/leopauly/Pouring_Dataset_Images/test/red_to_clear3_fake_view1 127\\n', '/nobackup/leopauly/Pouring_Dataset_Images/test/red_to_clear4_fake_view0 128\\n', '/nobackup/leopauly/Pouring_Dataset_Images/test/red_to_clear4_fake_view1 129\\n', '/nobackup/leopauly/Pouring_Dataset_Images/test/red_to_clear5_fake_view0 130\\n', '/nobackup/leopauly/Pouring_Dataset_Images/test/red_to_clear5_fake_view1 131\\n', '/nobackup/leopauly/Pouring_Dataset_Images/test/red_to_clear99_real_view0 132\\n', '/nobackup/leopauly/Pouring_Dataset_Images/test/red_to_clear99_real_view1 133\\n', '/nobackup/leopauly/Pouring_Dataset_Images/test/red_to_clear_real_view0 134\\n', '/nobackup/leopauly/Pouring_Dataset_Images/test/red_to_clear_real_view1 135\\n', '/nobackup/leopauly/Pouring_Dataset_Images/test/red_to_white0_fake_view0 136\\n', '/nobackup/leopauly/Pouring_Dataset_Images/test/red_to_white0_fake_view1 137\\n', '/nobackup/leopauly/Pouring_Dataset_Images/test/red_to_white1_fake_view0 138\\n', '/nobackup/leopauly/Pouring_Dataset_Images/test/red_to_white1_fake_view1 139\\n', '/nobackup/leopauly/Pouring_Dataset_Images/test/red_to_white2_fake_view0 140\\n', '/nobackup/leopauly/Pouring_Dataset_Images/test/red_to_white2_fake_view1 141\\n', '/nobackup/leopauly/Pouring_Dataset_Images/test/red_to_white3_fake_view0 142\\n', '/nobackup/leopauly/Pouring_Dataset_Images/test/red_to_white3_fake_view1 143\\n', '/nobackup/leopauly/Pouring_Dataset_Images/test/red_to_white4_fake_view0 144\\n', '/nobackup/leopauly/Pouring_Dataset_Images/test/red_to_white4_fake_view1 145\\n', '/nobackup/leopauly/Pouring_Dataset_Images/test/red_to_white5_fake_view0 146\\n', '/nobackup/leopauly/Pouring_Dataset_Images/test/red_to_white5_fake_view1 147\\n', '/nobackup/leopauly/Pouring_Dataset_Images/test/red_to_white6_fake_view0 148\\n', '/nobackup/leopauly/Pouring_Dataset_Images/test/red_to_white6_fake_view1 149\\n', '/nobackup/leopauly/Pouring_Dataset_Images/test/red_to_white99_real_view0 150\\n', '/nobackup/leopauly/Pouring_Dataset_Images/test/red_to_white99_real_view1 151\\n', '/nobackup/leopauly/Pouring_Dataset_Images/test/red_to_white_real_view0 152\\n', '/nobackup/leopauly/Pouring_Dataset_Images/test/red_to_white_real_view1 153\\n', '/nobackup/leopauly/Pouring_Dataset_Images/test/whitemilk_to_clear99_real_view0 154\\n', '/nobackup/leopauly/Pouring_Dataset_Images/test/whitemilk_to_clear99_real_view1 155\\n', '/nobackup/leopauly/Pouring_Dataset_Images/test/whitemilk_to_clear_real_view0 156\\n', '/nobackup/leopauly/Pouring_Dataset_Images/test/whitemilk_to_clear_real_view1 157\\n', '/nobackup/leopauly/Pouring_Dataset_Images/test/whiteorange_to_clear0_real_view0 158\\n', '/nobackup/leopauly/Pouring_Dataset_Images/test/whiteorange_to_clear0_real_view1 159\\n', '/nobackup/leopauly/Pouring_Dataset_Images/test/whiteorange_to_clear1_real_view0 160\\n', '/nobackup/leopauly/Pouring_Dataset_Images/test/whiteorange_to_clear1_real_view1 161\\n', '/nobackup/leopauly/Pouring_Dataset_Images/test/whiteorange_to_clear99_real_view0 162\\n', '/nobackup/leopauly/Pouring_Dataset_Images/test/whiteorange_to_clear99_real_view1 163\\n', '/nobackup/leopauly/Pouring_Dataset_Images/test/whiteorange_to_clear_real_view0 164\\n', '/nobackup/leopauly/Pouring_Dataset_Images/test/whiteorange_to_clear_real_view1 165\\n', '/nobackup/leopauly/Pouring_Dataset_Images/test/whitetea_to_clear0_real_view0 166\\n', '/nobackup/leopauly/Pouring_Dataset_Images/test/whitetea_to_clear0_real_view1 167\\n', '/nobackup/leopauly/Pouring_Dataset_Images/test/whitetea_to_clear1_real_view0 168\\n', '/nobackup/leopauly/Pouring_Dataset_Images/test/whitetea_to_clear1_real_view1 169\\n']\n"
     ]
    }
   ],
   "source": [
    "print(lines)"
   ]
  },
  {
   "cell_type": "code",
   "execution_count": 6,
   "metadata": {},
   "outputs": [],
   "source": [
    "for i in range(len(lines)):\n",
    "    file.write(lines[i])\n",
    "    file.write('/nobackup/leopauly/Disimilar_Videos_Dataset/aslan/7-000'+str(i+266)+' 1'+'\\n')\n",
    "file.close() "
   ]
  },
  {
   "cell_type": "code",
   "execution_count": 7,
   "metadata": {},
   "outputs": [
    {
     "name": "stdout",
     "output_type": "stream",
     "text": [
      "170\n"
     ]
    }
   ],
   "source": [
    "print(len(lines))"
   ]
  },
  {
   "cell_type": "code",
   "execution_count": null,
   "metadata": {
    "collapsed": true
   },
   "outputs": [],
   "source": []
  }
 ],
 "metadata": {
  "kernelspec": {
   "display_name": "Python 3",
   "language": "python",
   "name": "python3"
  },
  "language_info": {
   "codemirror_mode": {
    "name": "ipython",
    "version": 3
   },
   "file_extension": ".py",
   "mimetype": "text/x-python",
   "name": "python",
   "nbconvert_exporter": "python",
   "pygments_lexer": "ipython3",
   "version": "3.6.1"
  }
 },
 "nbformat": 4,
 "nbformat_minor": 2
}
